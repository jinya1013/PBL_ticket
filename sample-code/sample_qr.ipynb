{
 "cells": [
  {
   "cell_type": "markdown",
   "metadata": {},
   "source": [
    "<h1>Generate QR Code from data</h1>\n",
    "Reference: https://note.nkmk.me/en/python-pillow-qrcode/"
   ]
  },
  {
   "cell_type": "markdown",
   "metadata": {},
   "source": [
    "<h1>SAMPLE 1</h1>"
   ]
  },
  {
   "cell_type": "code",
   "execution_count": null,
   "metadata": {
    "metadata": {}
   },
   "outputs": [],
   "source": [
    "import qrcode\n",
    "# insert the data to be encoded in the qrcode.make or QRCode object\n",
    "img = qrcode.make('test text') # output data after scanning QR code\n",
    "print(type(img))\n",
    "img.save('qrcode_test.png')"
   ]
  },
  {
   "cell_type": "markdown",
   "metadata": {},
   "source": [
    "<h1>SAMPLE 2</h1>"
   ]
  },
  {
   "cell_type": "code",
   "execution_count": null,
   "metadata": {
    "metadata": {}
   },
   "outputs": [
    {
     "name": "stdout",
     "output_type": "stream",
     "text": [
      "QR Code generated and saved as 'qrcode_pink.png'\n"
     ]
    }
   ],
   "source": [
    "import qrcode\n",
    "# insert the input data to be encoded to the QR code\n",
    "# this is just dummy data to test\n",
    "\n",
    "data = \"https://google.com\"\n",
    "\n",
    "# make QRCode object\n",
    "qr = qrcode.QRCode(\n",
    "    version=1,  # Controls the size of the QR Code\n",
    "    error_correction=qrcode.constants.ERROR_CORRECT_L,  # Error correction level\n",
    "    box_size=10,  # Size of each box in pixels\n",
    "    border=4,  # Border width\n",
    ")\n",
    "\n",
    "# Add data to the QR Code\n",
    "qr.add_data(data)\n",
    "qr.make(fit=True)\n",
    "\n",
    "# Create and save the image\n",
    "img = qr.make_image(fill=\"black\", back_color=\"pink\") # can change the color accordingly\n",
    "img.save(\"qrcode_pink.png\") # file name to a path that we want to, local or server"
   ]
  },
  {
   "cell_type": "markdown",
   "metadata": {},
   "source": [
    "<h1>SAMPLE 3</h1>\n",
    "By Jonathan"
   ]
  },
  {
   "cell_type": "code",
   "execution_count": null,
   "metadata": {},
   "outputs": [],
   "source": [
    "import qrcode\n",
    "import json\n",
    "\n",
    "data = {\n",
    "    \"departing\": \"Takazaki\",\n",
    "    \"arriving\": \"Todaimae\",\n",
    "    \"date\": \"date_object\",\n",
    "    \"time\": \"time_object\",\n",
    "    \"date_time_of\": \"departure\",\n",
    "    \"adult_nb\": 1,\n",
    "    \"child_nb\": 0\n",
    "}\n",
    "\n",
    "json_string = json.dumps(data)\n",
    "\n",
    "qr = qrcode.QRCode(\n",
    "    version=1,\n",
    "    error_correction=qrcode.constants.ERROR_CORRECT_H,\n",
    "    box_size=10,\n",
    "    border=4,\n",
    ")\n",
    "\n",
    "qr.add_data(json_string)\n",
    "qr.make(fit=True)\n",
    "\n",
    "img = qr.make_image(fill_color=\"black\", back_color=\"white\")\n",
    "img.save(\"qrcode.png\")"
   ]
  }
 ],
 "metadata": {
  "kernelspec": {
   "display_name": "Python 3",
   "language": "python",
   "name": "python3"
  },
  "language_info": {
   "codemirror_mode": {
    "name": "ipython",
    "version": 3
   },
   "file_extension": ".py",
   "mimetype": "text/x-python",
   "name": "python",
   "nbconvert_exporter": "python",
   "pygments_lexer": "ipython3",
   "version": "3.9.13"
  }
 },
 "nbformat": 4,
 "nbformat_minor": 2
}
